{
 "cells": [
  {
   "cell_type": "code",
   "execution_count": 1,
   "id": "775d703b",
   "metadata": {},
   "outputs": [
    {
     "name": "stderr",
     "output_type": "stream",
     "text": [
      "d:\\Projects\\RLHF\\rlhf\\Lib\\site-packages\\tqdm\\auto.py:21: TqdmWarning: IProgress not found. Please update jupyter and ipywidgets. See https://ipywidgets.readthedocs.io/en/stable/user_install.html\n",
      "  from .autonotebook import tqdm as notebook_tqdm\n",
      "d:\\Projects\\RLHF\\rlhf\\Lib\\site-packages\\huggingface_hub\\file_download.py:143: UserWarning: `huggingface_hub` cache-system uses symlinks by default to efficiently store duplicated files but your machine does not support them in C:\\Users\\binit\\.cache\\huggingface\\hub\\datasets--allenai--reward-bench. Caching files will still work but in a degraded version that might require more space on your disk. This warning can be disabled by setting the `HF_HUB_DISABLE_SYMLINKS_WARNING` environment variable. For more details, see https://huggingface.co/docs/huggingface_hub/how-to-cache#limitations.\n",
      "To support symlinks on Windows, you either need to activate Developer Mode or to run Python as an administrator. In order to activate developer mode, see this article: https://docs.microsoft.com/en-us/windows/apps/get-started/enable-your-device-for-development\n",
      "  warnings.warn(message)\n",
      "Xet Storage is enabled for this repo, but the 'hf_xet' package is not installed. Falling back to regular HTTP download. For better performance, install the package with: `pip install huggingface_hub[hf_xet]` or `pip install hf_xet`\n",
      "Xet Storage is enabled for this repo, but the 'hf_xet' package is not installed. Falling back to regular HTTP download. For better performance, install the package with: `pip install huggingface_hub[hf_xet]` or `pip install hf_xet`\n",
      "Generating raw split: 100%|██████████| 5123/5123 [00:01<00:00, 4568.12 examples/s]\n",
      "Generating filtered split: 100%|██████████| 2985/2985 [00:00<00:00, 25725.00 examples/s]\n"
     ]
    }
   ],
   "source": [
    "from datasets import load_dataset\n",
    "\n",
    "ds = load_dataset(\"allenai/reward-bench\")"
   ]
  },
  {
   "cell_type": "code",
   "execution_count": 18,
   "id": "10c0b80d",
   "metadata": {},
   "outputs": [
    {
     "data": {
      "text/plain": [
       "{'prompt': Value('string'),\n",
       " 'chosen': Value('string'),\n",
       " 'chosen_model': Value('string'),\n",
       " 'rejected': Value('string'),\n",
       " 'rejected_model': Value('string'),\n",
       " 'subset': Value('string'),\n",
       " 'id': Value('int64')}"
      ]
     },
     "execution_count": 18,
     "metadata": {},
     "output_type": "execute_result"
    }
   ],
   "source": [
    "ds['raw'].features"
   ]
  },
  {
   "cell_type": "code",
   "execution_count": 33,
   "id": "a6e0e277",
   "metadata": {},
   "outputs": [
    {
     "data": {
      "text/plain": [
       "Dataset({\n",
       "    features: ['prompt', 'chosen', 'chosen_model', 'rejected', 'rejected_model', 'subset', 'id'],\n",
       "    num_rows: 5123\n",
       "})"
      ]
     },
     "execution_count": 33,
     "metadata": {},
     "output_type": "execute_result"
    }
   ],
   "source": [
    "ds['raw']"
   ]
  },
  {
   "cell_type": "code",
   "execution_count": 26,
   "id": "678056c2",
   "metadata": {},
   "outputs": [
    {
     "data": {
      "text/plain": [
       "[{'prompt': 'Why did the website crash?',\n",
       "  'winning': 'Too many users logging in caused a memory overflow.',\n",
       "  'losing': 'Aliens disabled the server.'},\n",
       " {'prompt': 'Why did the train stop?',\n",
       "  'winning': 'Signal failure on the main line.',\n",
       "  'losing': 'Because the sun forgot to rise.'}]"
      ]
     },
     "execution_count": 26,
     "metadata": {},
     "output_type": "execute_result"
    }
   ],
   "source": [
    "data = [\n",
    "    {\"prompt\": \"Why did the website crash?\",\n",
    "     \"winning\": \"Too many users logging in caused a memory overflow.\",\n",
    "     \"losing\": \"Aliens disabled the server.\"},\n",
    "    {\"prompt\": \"Why did the train stop?\",\n",
    "     \"winning\": \"Signal failure on the main line.\",\n",
    "     \"losing\": \"Because the sun forgot to rise.\"}\n",
    "]\n",
    "data"
   ]
  },
  {
   "cell_type": "code",
   "execution_count": 20,
   "id": "4b06b6f7",
   "metadata": {},
   "outputs": [
    {
     "data": {
      "text/plain": [
       "Column(['GPT4-Turbo', 'GPT4-Turbo', 'GPT4-Turbo', 'GPT4-Turbo', 'GPT4-Turbo'])"
      ]
     },
     "execution_count": 20,
     "metadata": {},
     "output_type": "execute_result"
    }
   ],
   "source": [
    "ds['raw']['chosen_model']"
   ]
  },
  {
   "cell_type": "code",
   "execution_count": 27,
   "id": "701e03c4",
   "metadata": {},
   "outputs": [],
   "source": [
    "final_dataset = [{\"prompt\": raw['prompt'], \"winning\": raw['chosen'], \"losing\": raw['rejected']} for raw in ds['raw']]"
   ]
  },
  {
   "cell_type": "code",
   "execution_count": null,
   "id": "ab517760",
   "metadata": {},
   "outputs": [
    {
     "data": {
      "text/plain": [
       "[{'prompt': 'What are the names of some famous actors that started their careers on Broadway?',\n",
       "  'winning': 'Several famous actors started their careers on Broadway before making it big in film and television. Here are a few notable examples:\\n\\n1. Sarah Jessica Parker - Before she was Carrie Bradshaw on \"Sex and the City,\" Sarah Jessica Parker was a Broadway star, having appeared in productions like \"Annie\" as a child.\\n\\n2. Meryl Streep - Meryl Streep\\'s early career included Broadway productions such as \"Trelawny of the \\'Wells\\'\" and \"A Memory of Two Mondays / 27 Wagons Full of Cotton.\"\\n\\n3. Hugh Jackman - Hugh Jackman won a Tony Award for his role in \"The Boy from Oz\" and has been known for his stage work as well as his film career.\\n\\n4. Sutton Foster - Known for her television role in \"Younger,\" Sutton Foster is also a Broadway legend with leading roles in shows like \"Thoroughly Modern Millie\" and \"Anything Goes.\"\\n\\n5. Kristen Bell - Before she was the voice of Anna in \"Frozen\" or the star of \"The Good Place,\" Kristen Bell appeared in Broadway\\'s \"The Adventures of Tom Sawyer\" and \"The Crucible.\"\\n\\n6. Audra McDonald - Audra McDonald is a renowned Broadway actress with a record-breaking number of Tony Awards. She\\'s starred in \"Ragtime,\" \"Carousel,\" \"Master Class,\" and more.\\n\\n7. Nathan Lane - Nathan Lane is a Broadway veteran known for his roles in \"The Producers,\" \"A Funny Thing Happened on the Way to the Forum,\" and \"Angels in America.\"\\n\\n8. Idina Menzel - Before \"Frozen\" and \"Wicked\" made her a household name, Idina Menzel started on Broadway in shows like \"Rent\" and \"Hair.\"\\n\\n9. Lin-Manuel Miranda - Before \"Hamilton\" and \"In the Heights\" became huge hits, Lin-Manuel Miranda was performing on Broadway, eventually becoming a celebrated writer and actor.\\n\\n10. Lea Michele - Prior to her role on \"Glee,\" Lea Michele was a young Broadway actress in shows like \"Les Misérables,\" \"Ragtime,\" and \"Spring Awakening.\"\\n\\nThese actors are just a few examples of the many performers who have transitioned from the Broadway stage to broader fame in the entertainment industry. Broadway often serves as a proving ground for talent, and many actors continue to return to the stage throughout their careers.',\n",
       "  'losing': 'Some famous actors that started their careers on Broadway include: Tom Hanks, Meryl Streep, Laurence Olivier, Christopher Walken, and Jeremy Irons.'},\n",
       " {'prompt': 'How did US states get their names?',\n",
       "  'winning': 'The names of U.S. states are derived from a variety of languages and sources, including indigenous American languages, European languages (primarily English, Spanish, and French), as well as other historical influences. Here is a brief overview of how some states got their names:\\n\\n1. **Indigenous American Languages**: Many state names come from Native American words or names of tribes, often from the languages of the indigenous peoples who lived in or near those areas.\\n   - **Alabama**: Possibly derived from the Choctaw language, meaning \"thicket clearers.\"\\n   - **Connecticut**: From a Mohegan-Pequot word meaning \"long tidal river.\"\\n   - **Massachusetts**: Named after the Massachusett tribe; the name means \"at or about the great hill.\"\\n\\n2. **Spanish**: Some state names come from Spanish explorers and settlers.\\n   - **California**: Possibly named after a mythical island in a Spanish novel, \"Las sergas de Esplandián\" by Garci Rodríguez de Montalvo.\\n   - **Colorado**: Named after the Colorado River, which in turn was named for its red-colored silt, from Spanish \"colorado\" meaning \"colored red.\"\\n   - **Florida**: Named by Spanish explorer Juan Ponce de León in 1513, \"Pascua Florida\" refers to the \"feast of the flowers\" (Easter) and the verdant landscape.\\n\\n3. **French**: Some states have names derived from French explorers and settlers or from French interpretations of Native American words.\\n   - **Louisiana**: Named in honor of King Louis XIV of France.\\n   - **Vermont**: From the French \"vert mont,\" meaning \"green mountain.\"\\n\\n4. **English**: Many states have names that are either directly taken from places in England or are English translations or adaptations of Native American names.\\n   - **New York**: Named after the Duke of York (later King James II of England), when the English took it from the Dutch who called it New Amsterdam.\\n   - **Virginia**: Named after Queen Elizabeth I of England, the \"Virgin Queen.\"\\n\\n5. **Other European Languages**: A few state names have origins in other European languages due to the influence of various European settlers and explorers.\\n   - **Illinois**: French adaptation of an Algonquin word meaning \"tribe of superior men.\"\\n   - **Minnesota**: From the Dakota Sioux word \"mnisota,\" meaning \"cloudy water\" or \"sky-tinted water.\"\\n\\n6. **Latin or Greek**: Some names are derived from Latin or Greek words or roots.\\n   - **Pennsylvania**: Named by William Penn after his father and means \"Penn\\'s woods\" in Latin.\\n\\n7. **Place Names and Royalty**: Some states are named after monarchs or other places.\\n   - **Georgia**: Named in honor of King George II of Great Britain.\\n   - **Maryland**: Named in honor of Queen Henrietta Maria, the wife of King Charles I of England.\\n\\n8. **Combination of Languages and Influences**: Some state names are a blend of influences from different languages or are adaptations that have transformed over time due to usage and pronunciation.\\n   - **Arkansas**: Named after the French plural of a Quapaw word \"akakaze\" meaning \"land of downriver people.\"\\n\\n9. **Geographical Features**: Some states are named after prominent geographical features.\\n   - **Indiana**: Meaning \"land of the Indians.\"\\n   - **Tennessee**: Likely derived from a Cherokee village name \"Tanasi.\"\\n\\nKeep in mind this is not an exhaustive list, and many of the origins can be more complex, with different theories about their etymology.',\n",
       "  'losing': 'US states got their names for a variety of reasons. Many are named after early explorers, leaders, or patriots. Some are named after geographical features, such as mountains or rivers. Others are named after plants or animals that are native to the state. Some are even named after historical figures or characters from literature or mythology.'},\n",
       " {'prompt': \"Hi, my sister and her girlfriends want me to play kickball with them. Can you explain how the game is played, so they don't take advantage of me?\",\n",
       "  'winning': \"Kickball is a fun and simple game that is similar to baseball or softball, but instead of hitting a ball with a bat, players kick a rubber ball. Here's how the game is typically played:\\n\\n**Equipment and Setup:**\\n- A large rubber ball (similar to a playground ball).\\n- A field with four bases arranged like a diamond (home plate, first base, second base, third base).\\n- Teams can vary in size, but 8 to 11 players per team is common.\\n\\n**Objective:**\\nThe objective of kickball is to score more runs than the opposing team by kicking the ball and running around the bases to reach home plate.\\n\\n**Basic Rules:**\\n1. **Teams:** There are two teams – the kicking team and the fielding team. The teams switch roles after each inning.\\n\\n2. **Kicking Order:** The kicking team has a lineup that determines the order in which players kick the ball.\\n\\n3. **Pitching:** The pitcher from the fielding team rolls the ball towards home plate. The ball must be rolled smoothly (no bouncing) and within reach of the kicker.\\n\\n4. **Kicking:** The kicker attempts to kick the ball and then run to at least first base. The kicker must kick the ball within the kicking box (an area including and surrounding home plate).\\n\\n5. **Outs:** A player can be put out in several ways, similar to baseball:\\n   - **Catch:** If the fielding team catches the ball in the air after it has been kicked (before it touches the ground), the kicker is out.\\n   - **Tag:** If a fielder tags a runner with the ball while the runner is not on a base, the runner is out.\\n   - **Force Out:** If a fielder has control of the ball and touches the base that a runner is forced to run to before the runner gets there (similar to a force out in baseball), the runner is out.\\n   - **Strikeouts:** A kicker can also strike out if they miss the ball three times or if they kick the ball foul on the third strike.\\n\\n6. **Running the Bases:** After kicking the ball, the runner attempts to safely reach a base. Runners can be tagged out by the fielding team or forced out when the fielding team tags the base ahead of the runner.\\n\\n7. **Scoring Runs:** A run is scored when a runner successfully kicks the ball and then touches all four bases in order, ending at home plate.\\n\\n8. **Innings:** An inning consists of both teams having a turn to kick and field. Each team's turn continues until they get three outs, after which the other team gets to kick.\\n\\n9. **Foul Balls:** A kick that lands in foul territory (outside the first or third-base lines) is considered a foul ball. Two fouls count as a strike, and a third foul may result in a strikeout, depending on the rules you are playing with.\\n\\n10. **Game Length:** The game typically lasts for a set number of innings (often five or seven) or until a time limit is reached.\\n\\nRemember that kickball is often played casually, and the rules can vary depending on the group you're playing with. Make sure to clarify any specific rules with your sister and her friends before you start playing. Most importantly, have fun and enjoy the game!\",\n",
       "  'losing': \"Sure! Kickball is a game typically played between two teams of nine players each. The object of the game is to get your team's ball across the field to score points, while preventing the other team from doing the same. Players can kick, throw, and run with the ball, and each team has a designated home base and a designated goal area. The team with the most points at the end of the game wins.\"},\n",
       " {'prompt': 'What is some cool music from the 1920s?',\n",
       "  'winning': 'The 1920s, often referred to as the \"Roaring Twenties,\" was a period that saw a significant explosion in the popularity of jazz and the beginning of widespread commercial recording. Here are some influential artists and songs from that era:\\n\\n1. **Louis Armstrong**: Known as \"Satchmo\" or \"Pops,\" Armstrong was one of the most influential figures in jazz music. His innovative approach to playing the trumpet and his scat singing style were highly influential. Notable recordings include \"West End Blues\" and \"Heebie Jeebies.\"\\n\\n2. **Bessie Smith**: Dubbed the \"Empress of the Blues,\" Smith was the most popular female blues singer of the decade. Her powerful voice and emotive style brought her great fame. Songs like \"Downhearted Blues\" and \"St. Louis Blues\" were among her biggest hits.\\n\\n3. **Duke Ellington**: A pivotal bandleader and composer in jazz, Ellington led his orchestra at the Cotton Club in Harlem. Some of his notable compositions from the 1920s include \"Black and Tan Fantasy\" and \"Mood Indigo.\"\\n\\n4. **Jelly Roll Morton**: A pianist and composer, Morton claimed to be the inventor of jazz. Whether or not that\\'s true, his influence on the genre is undeniable. His recordings with the Red Hot Peppers, like \"King Porter Stomp\" and \"Black Bottom Stomp,\" are classics.\\n\\n5. **George Gershwin**: Gershwin was a composer who bridged the gap between classical music and jazz. His 1924 composition \"Rhapsody in Blue\" is one of the most famous pieces of American music from the 20th century.\\n\\n6. **Paul Whiteman**: Known as the \"King of Jazz,\" Whiteman led one of the most popular dance bands of the 1920s. His orchestra\\'s recording of Gershwin\\'s \"Rhapsody in Blue\" with Gershwin at the piano was a huge hit.\\n\\n7. **The Original Dixieland Jass Band**: Often credited with making the first jazz recordings in 1917, they continued to be popular through the 1920s with songs like \"Dixie Jass Band One-Step\" and \"Tiger Rag.\"\\n\\n8. **Ma Rainey**: Another significant blues singer of the era, known as the \"Mother of the Blues,\" her powerful voice and charismatic performances made her a key figure of the blues. Songs like \"See See Rider\" and \"Ma Rainey\\'s Black Bottom\" were popular.\\n\\n9. **Fletcher Henderson**: As a bandleader and arranger, Henderson was influential in the development of big band jazz. His band was one of the top African American bands of the 1920s.\\n\\n10. **Ethel Waters**: She was a blues, jazz, and gospel vocalist who became one of the first African American women to be recorded. \"Stormy Weather\" is one of her most enduring hits, although it was released just slightly later, in 1933.\\n\\nThis list is just a starting point, as the 1920s were a rich period for music, with various styles emerging and evolving. The era\\'s sound was characterized by the advent of new recording technologies, the rise of radio broadcasting, and the speakeasy culture during Prohibition in the United States.',\n",
       "  'losing': 'Some popular music from the 1920s includes jazz, blues, and swing music. Some notable artists from this era include Louis Armstrong, Bessie Smith, and Duke Ellington.'},\n",
       " {'prompt': 'How do I wrap a present neatly?',\n",
       "  'winning': \"Wrapping a present neatly can be quite straightforward with a little practice. Here's a step-by-step guide:\\n\\n### Materials Needed:\\n- Wrapping paper\\n- Scissors\\n- Clear tape\\n- The gift to be wrapped\\n- Ribbon or bow (optional)\\n- Gift tag (optional)\\n\\n### Instructions:\\n\\n1. **Measure the Paper**:\\n   - Place the gift on the wrapping paper to measure how much you'll need. You want enough paper to cover the item completely with a little overlap.\\n   - Ensure that the paper is long enough to go around the gift with about 2 inches (5 cm) of overlap.\\n   - Make sure there's enough paper to cover the ends of the present with extra to fold and tape.\\n\\n2. **Cut the Paper**:\\n   - Cut the wrapping paper along a straight line. You can use the grid lines on the back of the paper as a guide if available.\\n\\n3. **Center the Gift**:\\n   - Place your gift face down on the wrapping paper. This way, the seam of the paper will be on the bottom of the present.\\n\\n4. **Wrap the Paper Around the Gift**:\\n   - Bring the paper around the gift so that it's completely covered.\\n   - Pull the paper taut, but be careful not to tear it.\\n   - Tape one edge of the paper to the box, then pull the other edge over it to create a seam along the center of the bottom of the box. Tape it down.\\n\\n5. **Fold the Ends**:\\n   - At one end of the box, push the sides of the paper inward, creating two flaps and a triangle at the top and bottom.\\n   - Fold down the top triangular flap, creasing well, then fold up the bottom triangle. This should create a neat edge.\\n   - Secure with tape. Repeat on the other end.\\n\\n6. **Final Touches**:\\n   - If there are any untidy edges or corners, you can fold them neatly and secure them with a small piece of tape.\\n   - Add a ribbon or bow on top for decoration, and attach a gift tag if needed.\\n\\n### Tips for a Neat Wrap:\\n- Use double-sided tape to avoid visible tape lines for a cleaner look.\\n- Keep your folds sharp by creasing them with your fingers or the edge of a ruler.\\n- If your wrapping paper is wrinkled, you can lightly iron it on a low setting to smooth it out (make sure the paper is iron-safe).\\n- Practice makes perfect. Your first few attempts might not be perfect, but you'll improve with each gift you wrap.\\n\\nBy following these steps, you should be able to neatly wrap your present and give it that professional-looking touch.\",\n",
       "  'losing': 'To wrap a present neatly, start by laying the present on its side with the box flaps on either side. Fold the flaps over the box, then tuck the ends of the flaps into the center of the box. Next, fold the top flap down over the box and secure with tape or string. For a more professional look, wrap the present in tissue paper and secure with a bow.'},\n",
       " {'prompt': 'How do I dice without slicing my finger',\n",
       "  'winning': \"Dicing without slicing your fingers involves proper knife handling and cutting technique. Here's a step-by-step guide to dicing safely:\\n\\n1. **Choose the Right Knife**: A sharp chef's knife is typically the best choice for dicing. Make sure it's sharp; a dull knife can slip and is more dangerous.\\n\\n2. **Cutting Board**: Use a stable cutting board. If it slides around, place a damp paper towel or a non-slip mat underneath it.\\n\\n3. **Knife Grip**: Hold the knife properly. Grip the handle with your dominant hand, with your thumb and forefinger on opposite sides of the blade's base for control.\\n\\n4. **Finger Position (Claw Grip)**: Curl the fingers of your non-dominant hand into a claw-like position, tucking your fingertips away from the blade. Use your knuckles as a guide for the knife, which helps keep your fingers safe.\\n\\n5. **Stabilize the Food**: If you're cutting something round like a potato or an onion, slice a small piece off to create a flat surface. Lay the flat side down to keep the food stable.\\n\\n6. **The Cutting Motion**: Use a rolling motion, pivoting the knife up and down with the tip of the knife remaining on the cutting board. The knife should move up and down while you push the food underneath the blade with your non-dominant hand.\\n\\n7. **Consistent Cuts**: Make parallel cuts first, then stack or line the slices up to make perpendicular cuts to create cubes.\\n\\n8. **Take Your Time**: Don't rush. Speed comes with practice and confidence. Start slowly to ensure you maintain control of the knife and the food.\\n\\n9. **Keep Your Eye on the Blade**: Always watch the blade as you cut. Distractions can lead to accidents.\\n\\n10. **Clean Workspace**: After each dicing task, move the diced pieces away from the cutting area to avoid clutter, which can lead to accidents.\\n\\n11. **Knife Maintenance**: Regularly hone your knife to keep it sharp and perform maintenance sharpening or have it done professionally when needed.\\n\\n12. **Practice**: With practice, your technique will improve, making it safer and more efficient.\\n\\nRemember, even with proper technique, accidents can happen, so always stay focused while using a knife. If you're new to cooking or uncomfortable with your knife skills, consider taking a basic cooking class that includes knife skills training.\",\n",
       "  'losing': 'To dice without slicing your finger, use a kitchen knife with a cutting board. Place the food on the cutting board and hold the knife at an angle. Then, press the knife down lightly and move it in a circular motion to dice the food.'},\n",
       " {'prompt': \"Hi, I'm trying to solve a crossword puzzle, but I've never done one of these before. Can you help me out?\",\n",
       "  'winning': \"Absolutely! I'd be delighted to help you with your crossword puzzle. Just tell me the clues and the number of letters needed for each answer (and any letters you may have already filled in), and I'll do my best to help you find the solutions. If you have any specific questions about how to approach solving crossword puzzles in general, feel free to ask those as well!\",\n",
       "  'losing': 'Sure, I can help you! First, let me ask you a few questions. What is the size of the crossword puzzle? Are the words in the grid arranged in any particular order? What have you already solved? \\n\\nOnce I know a bit more, I can provide some assistance. For example, if you tell me the size of the crossword puzzle and how the words are arranged, I can provide some hints or possible solutions for you to try.'},\n",
       " {'prompt': 'Who is Larry Page?',\n",
       "  'winning': 'Larry Page is an American computer scientist and Internet entrepreneur who co-founded Google with Sergey Brin. Page was born on March 26, 1973, in East Lansing, Michigan, and attended the University of Michigan for his undergraduate studies. He later obtained a Master of Science degree in computer science from Stanford University, where he met Brin.\\n\\nIn 1996, while working on a research project as Ph.D. students at Stanford, Page and Brin developed the PageRank algorithm, which became the foundation for Google\\'s search engine. This algorithm was revolutionary because it ranked web pages based on their importance, determined by the number and quality of links pointing to them.\\n\\nPage served as the first CEO of Google until 2001 and then again from 2011 to 2015. During his leadership, Google became one of the world\\'s most valuable companies, offering a wide range of products and services beyond its original search engine, including advertising services, consumer electronics, and cloud computing.\\n\\nIn 2015, Page became the CEO of Alphabet Inc., Google\\'s parent company, which was created as part of a corporate restructuring to make the tech giant\\'s activities more manageable and transparent. He stepped down from the role in December 2019 but remains a board member and a controlling shareholder.\\n\\nLarry Page is also known for his investments and interest in other technological frontiers, such as renewable energy, flying cars, and space exploration. He has been involved with and provided funding for a number of \"moonshot\" projects, some of which are carried out through Alphabet\\'s X (formerly Google X) lab.',\n",
       "  'losing': \"Larry Page is an American computer scientist and internet entrepreneur who is best known for co-founding Google with Sergey Brin. He served as the company's CEO from 2001 to 2011, and has been its chairman since 2011. He is also the founder of Google X, the company's semi-secret research and development laboratory.\"},\n",
       " {'prompt': 'What are different drawers I should have for clothes?',\n",
       "  'winning': \"The types of drawers you should have for clothes depend on your personal wardrobe and the space you have available. However, here's a general guide for categorizing different types of clothing into drawers:\\n\\n1. **Undergarments Drawer**: This drawer is for your underwear, bras, socks, and hosiery. Some people prefer to separate these further, with a drawer specifically for bras and another for underwear and socks.\\n\\n2. **T-shirts and Casual Tops Drawer**: A drawer for casual wear such as t-shirts, tank tops, and other everyday shirts can help keep your casual wear organized and easily accessible.\\n\\n3. **Pajamas and Lounge Wear Drawer**: This drawer is for your pajamas, nightgowns, and lounge wear, including comfy shorts and sweatpants.\\n\\n4. **Activewear and Gym Clothes Drawer**: If you work out regularly, it's helpful to have a drawer dedicated to gym clothes, sports bras, workout t-shirts, leggings, and shorts.\\n\\n5. **Jeans and Casual Pants Drawer**: Designate a drawer for your jeans, casual pants, and other heavier items that can be folded without concern for wrinkles.\\n\\n6. **Sweaters and Knits Drawer**: Sweaters, cardigans, and knitted tops should have their own drawer. It’s often recommended to fold knitted garments to prevent them from stretching out on hangers.\\n\\n7. **Dress Shirts and Blouses Drawer**: For more formal or wrinkle-prone tops, you may want a separate drawer. Some may prefer to hang these items instead if space allows.\\n\\n8. **Shorts and Skirts Drawer**: If you have a collection of shorts and skirts, these can go together in a drawer. You might separate them by length or occasion (casual vs. dressy).\\n\\n9. **Accessories Drawer**: For belts, scarves, and other small accessories, a drawer with dividers can be very useful to keep these items from becoming tangled or lost.\\n\\n10. **Seasonal Drawer**: Depending on the climate you live in, you might have a drawer for seasonal items that you only wear at certain times of the year, such as swimwear or heavy thermal clothing.\\n\\nRemember that these are just suggestions, and the best setup for you will depend on what types of clothing you own and how much of each type you have. If you have a smaller wardrobe, you may combine categories into a single drawer. Conversely, if you have a large collection of a particular type of clothing, it may require multiple drawers. Drawer dividers or organizers can be very helpful in keeping items separate and easy to find within each drawer.\",\n",
       "  'losing': 'Different drawers you should have for clothes include a dresser, a jewelry box, a sock drawer, a shoe drawer, and a delicates drawer.'},\n",
       " {'prompt': 'I like to host guests at my home from time to time, and I am gathering  recipes of different dishes and drinks to keep things interesting. I am interested in trying some Georgian  dishes. Can you give me a recipe for Kubdari?',\n",
       "  'winning': 'Certainly! Kubdari (sometimes spelled as \"kubedari\") is a traditional dish from the Svaneti region of Georgia, known for its rich and spiced meat filling encased in a hearty bread. It\\'s similar to a meat pie and is traditionally filled with either beef, pork, or a combination of both, along with a unique blend of Georgian spices. Here\\'s how to make Kubdari:\\n\\n### Ingredients:\\n\\n#### For the Dough:\\n- 500 g (4 cups) all-purpose flour, plus extra for dusting\\n- 250 ml (1 cup) warm water\\n- 7 g (1 packet) active dry yeast\\n- 1 teaspoon sugar\\n- 1 teaspoon salt\\n- 2 tablespoons vegetable oil\\n\\n#### For the Filling:\\n- 500 g (1 lb) beef and/or pork, ground or finely chopped\\n- 2 onions, finely chopped\\n- 3 cloves of garlic, minced\\n- 1 bunch of fresh cilantro (coriander), finely chopped\\n- 1 teaspoon ground coriander\\n- 1 teaspoon ground blue fenugreek (utskho suneli, if available)\\n- 1/2 teaspoon ground cumin\\n- 1/2 teaspoon ground red pepper or chili flakes (adjust to taste)\\n- Salt and black pepper to taste\\n\\n### Instructions:\\n\\n#### Prepare the Dough:\\n1. In a small bowl, dissolve the sugar and yeast in the warm water and let it sit for about 10 minutes until it becomes frothy.\\n2. In a large mixing bowl, combine the flour and salt.\\n3. Add the yeasty water to the flour mixture along with the vegetable oil and mix until a dough begins to form.\\n4. Turn the dough out onto a floured surface and knead for about 7-10 minutes until it\\'s smooth and elastic.\\n5. Place the dough back in the bowl, cover with a clean towel, and let it rise in a warm place for about 1-1.5 hours, or until it has doubled in size.\\n\\n#### Prepare the Filling:\\n1. In a large mixing bowl, combine the ground meat, onions, garlic, cilantro, and spices. Mix thoroughly by hand to ensure the spices are well distributed. Season with salt and pepper to taste.\\n2. Let the mixture marinate while the dough is rising to allow the flavors to meld.\\n\\n#### Assemble and Cook the Kubdari:\\n1. Once the dough has risen, punch it down and divide it into equal portions (typically 4 to 6, depending on the desired size of your kubdari).\\n2. Roll each portion into a ball and then use a rolling pin to flatten each ball into a circle about 1/4-inch thick.\\n3. Place a portion of the meat filling in the center of each dough circle, leaving a margin around the edges.\\n4. Fold the edges of the dough over the filling, pinching them together to seal and then gently flatten the pie into a circular shape, being careful not to let the filling break through the dough.\\n5. Preheat a heavy-bottomed pan or a cast-iron skillet over medium heat. You can also use an oven preheated to 200°C (400°F).\\n6. Cook each kubdari for about 4-5 minutes on each side until the bread is golden brown and the meat is cooked through. If using an oven, bake for about 20-25 minutes, or until golden brown.\\n7. Once cooked, you can brush the kubdari with butter for extra flavor and softness.\\n\\nAllow the kubdari to cool slightly before serving. Kubdari is typically served hot and can be enjoyed on its own or with a side of pickles or a fresh salad. Enjoy your homemade Georgian feast!',\n",
       "  'losing': 'Yes, here is the recipe for Kubdari:\\n\\nIngredients:\\n- 2 tablespoons of butter\\n- 1/2 cup of all-purpose flour\\n- 2 eggs\\n- 1 teaspoon of baking powder\\n- 1 teaspoon of salt\\n- 1/2 teaspoon of ground black pepper\\n- 1/2 cup of milk\\n- 3 tablespoons of butter\\n- 2 tablespoons of minced parsley\\n\\nInstructions:\\n1. Preheat oven to 375 degrees F.\\n2. In a medium bowl, mix together the flour and baking powder.\\n3. In a separate bowl, whisk together the egg, milk, butter, salt, and pepper.\\n4. Gradually add the wet ingredients to the dry ingredients and mix until a smooth batter is formed.\\n5. Grease a 9-inch pie dish with butter.\\n6. Pour the batter into the pie dish and spread evenly.\\n7. Bake in preheated oven for 35-40 minutes or until a toothpick inserted in the center comes out clean.\\n8. Let cool before serving.\\n9. Serve with butter, minced parsley, and a sprinkle of black pepper. Enjoy!'},\n",
       " {'prompt': 'do you think retinoid is effective on removing the acne? because I have a lot of it',\n",
       "  'winning': \"Retinoids are indeed one of the most effective treatments for acne. They belong to a class of medications derived from vitamin A and are used both topically and orally to treat acne. Topical retinoids, such as tretinoin, adapalene, and tazarotene, work by promoting cell turnover, which helps unclog pores and prevent the formation of new acne lesions. They also have anti-inflammatory properties.\\n\\nIn addition to treating active acne, retinoids can help with post-inflammatory hyperpigmentation (the dark marks left behind after acne clears) and improve the texture of the skin. However, it's important to note that retinoids can cause skin irritation, especially when you first start using them. This can include redness, dryness, and peeling. It's often advised to start with a lower concentration and gradually increase as your skin builds tolerance.\\n\\nFor more severe cases of acne, oral retinoids such as isotretinoin (commonly known by its former brand name Accutane) may be prescribed. Isotretinoin is very effective but also has a range of potential side effects and requires close monitoring by a healthcare provider.\\n\\nBefore starting a retinoid, it's a good idea to consult with a dermatologist to determine the best course of action for your specific skin type and acne condition. They can provide guidance on how to use retinoids effectively and how to manage any potential side effects. Remember, while retinoids can be highly effective, they may take several weeks or even months to show significant improvement in acne, so patience and consistency with the treatment are vital.\",\n",
       "  'losing': 'Yes, retinoids are effective in treating acne. Retinoids are a class of medications that are derived from Vitamin A and are effective in reducing inflammation and decreasing the production of sebum. They can be used both topically and orally, and are used to treat a variety of skin conditions, including acne.'},\n",
       " {'prompt': \"I'm trying to teach myself to have nicer handwriting. Can you help?\",\n",
       "  'winning': 'Certainly! Improving your handwriting involves patience, practice, and attention to technique. Here are some tips to help you develop nicer handwriting:\\n\\n1. **Understand Your Current Style**: Before you can improve your handwriting, you need to understand where you\\'re starting from. Write a paragraph and analyze it to see where you could make improvements. Look for consistent slant, letter size, spacing, and legibility.\\n\\n2. **Choose the Right Tools**: Use a pen or pencil that feels comfortable in your hand. The right tool can make a significant difference in your writing. Some people find that using a fountain pen improves their writing because it encourages a more relaxed grip and has a smoother ink flow.\\n\\n3. **Practice Basic Strokes**: Before focusing on letters, practice basic strokes. This includes straight lines, curves, and circles. These are the building blocks of letters, and getting comfortable with these will make your letters more consistent.\\n\\n4. **Slow Down**: Speed can lead to sloppy writing. By slowing down, you can focus on the shape of each letter and ensure that you\\'re writing them correctly.\\n\\n5. **Maintain Proper Posture and Grip**: Sit up straight and hold your pen or pencil with a relaxed grip. Don\\'t hold it too tightly, as this can make your handwriting appear more jagged and can also cause your hand to tire out more quickly.\\n\\n6. **Form Letters Correctly**: Start and end each letter in the right spot to ensure consistency and flow. Practice writing each letter of the alphabet, focusing on the ones that give you the most trouble.\\n\\n7. **Practice Consistent Letter Size and Spacing**: Consistency is key to neat handwriting. Work on keeping all of your letters the same size and your words evenly spaced. You could use lined paper as a guide.\\n\\n8. **Use Handwriting Worksheets**: You can find handwriting practice worksheets online for both print and cursive writing. These worksheets can guide you through the proper strokes and help you practice consistency.\\n\\n9. **Copy Neat Writing**: Find a sample of handwriting you admire and try to copy it. This can help you develop a sense of the style you\\'re aiming for.\\n\\n10. **Write Often**: Like any skill, handwriting improves with regular practice. Find reasons to write by hand every day, whether it\\'s journaling, writing letters, or making to-do lists.\\n\\n11. **Analyze and Adjust**: Regularly look back at your handwriting to see where you\\'ve improved and what still needs work. Make adjustments as needed.\\n\\n12. **Be Patient and Persistent**: Don\\'t get discouraged if progress is slow. Handwriting improvement takes time and dedication.\\n\\nRemember, the goal of improving your handwriting is to make it more legible and aesthetically pleasing, but it should also be comfortable for you to write. There\\'s no one \"correct\" style of handwriting, so focus on developing a style that works for you.',\n",
       "  'losing': \"Absolutely! Here are some tips to help you improve your handwriting:\\n1. Start by getting comfortable with the pencil. Hold it lightly and relax your grip so that it isn't tiring or painful.\\n2. Experiment with different writing tools. Use different thicknesses of pencils, pens, markers, or even coloring pencils to find which one you like best.\\n3. Practice making shapes with your writing. Draw straight lines, circles, and curves to get comfortable with your writing instrument.\\n4. Make sure to keep your writing upright and consistent. Try to keep the same slant and consistency throughout your writing.\\n5. Make connections between letters. When writing words, connect the letters to make smooth curves and connections.\\n6. Make sure to breathe and take your time. Writing should be a relaxing and enjoyable activity, not a stressful one.\\n7. Read your writing out loud. This will help you identify any errors and hear how your writing sounds.\\n8. Use different fonts. Play around with different fonts and styles to find one you like.\\n9. Use prompts to practice. Writing prompts can help you stay focused and motivated.\\n10. Get creative. Experiment with different colors, fonts, and styles to make your writing unique and interesting.\"}]"
      ]
     },
     "execution_count": 31,
     "metadata": {},
     "output_type": "execute_result"
    }
   ],
   "source": [
    "final_dataset"
   ]
  },
  {
   "cell_type": "code",
   "execution_count": null,
   "id": "12e6ed94",
   "metadata": {},
   "outputs": [],
   "source": [
    "from transformers import AutoModel, AutoTokenizer\n",
    "import torch\n",
    "from src.reward_model import RewardModel, PreferenceDataset, preference_loss\n",
    "from torch.utils.data import DataLoader\n",
    "tokenizer = AutoTokenizer.from_pretrained(\"distilbert-base-uncased\")\n",
    "\n",
    "# # Example synthetic dataset\n",
    "# data = [\n",
    "#     {\"prompt\": \"Why did the website crash?\",\n",
    "#      \"winning\": \"Too many users logging in caused a memory overflow.\",\n",
    "#      \"losing\": \"Aliens disabled the server.\"},\n",
    "#     {\"prompt\": \"Why did the train stop?\",\n",
    "#      \"winning\": \"Signal failure on the main line.\",\n",
    "#      \"losing\": \"Because the sun forgot to rise.\"}\n",
    "# ]\n",
    "\n",
    "dataset = PreferenceDataset(tokenizer, final_dataset)\n",
    "dataloader = DataLoader(dataset, batch_size=20, shuffle=True)\n",
    "\n",
    "device = torch.device(\"cuda\" if torch.cuda.is_available() else \"cpu\")\n",
    "model = RewardModel().to(device)\n",
    "optimizer = torch.optim.AdamW(model.parameters(), lr=1e-5)\n",
    "\n",
    "# Training step\n",
    "for epoch in range(3):\n",
    "    for batch in dataloader:\n",
    "        optimizer.zero_grad()\n",
    "\n",
    "        winning_scores = model(batch[\"winning_input_ids\"].to(device),\n",
    "                              batch[\"winning_mask\"].to(device))\n",
    "\n",
    "        losing_scores = model(batch[\"losing_input_ids\"].to(device),\n",
    "                                batch[\"losing_mask\"].to(device))\n",
    "\n",
    "        loss = preference_loss(winning_scores, losing_scores)\n",
    "\n",
    "        loss.backward()\n",
    "        optimizer.step()\n",
    "\n",
    "    print(f\"Epoch {epoch+1} | Loss: {loss.item():.4f}\")"
   ]
  }
 ],
 "metadata": {
  "kernelspec": {
   "display_name": "rlhf",
   "language": "python",
   "name": "python3"
  },
  "language_info": {
   "codemirror_mode": {
    "name": "ipython",
    "version": 3
   },
   "file_extension": ".py",
   "mimetype": "text/x-python",
   "name": "python",
   "nbconvert_exporter": "python",
   "pygments_lexer": "ipython3",
   "version": "3.11.9"
  }
 },
 "nbformat": 4,
 "nbformat_minor": 5
}
